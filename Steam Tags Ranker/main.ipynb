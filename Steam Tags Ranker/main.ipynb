{
 "cells": [
  {
   "cell_type": "code",
   "execution_count": 6,
   "metadata": {},
   "outputs": [],
   "source": [
    "import pandas as pd\n",
    "import requests\n",
    "from requests.adapters import HTTPAdapter\n",
    "from selenium import webdriver\n",
    "from selenium.webdriver.common.by import By\n",
    "from selenium.webdriver.common.desired_capabilities import DesiredCapabilities\n",
    "from selenium.webdriver.support import expected_conditions as EC\n",
    "from selenium.webdriver.support.ui import Select\n",
    "from selenium.webdriver.support.ui import WebDriverWait\n",
    "from urllib3.util.retry import Retry\n",
    "import warnings\n",
    "\n",
    "warnings.filterwarnings('ignore')\n",
    "\n",
    "with open('api_key.txt', 'r') as file:\n",
    "    STEAM_ID, API_KEY = file.read().split('\\n')\n",
    "\n",
    "GAMES_URL = 'https://api.steampowered.com/IPlayerService/GetOwnedGames/v0001?key={}'\n",
    "GAMES_URL = GAMES_URL.format(API_KEY)\n",
    "GAMES_URL = GAMES_URL + '&include_played_free_games=1&skip_unvetted_apps=0&include_appinfo=1&steamid={}'\n",
    "GAMES_URL = GAMES_URL.format(STEAM_ID)\n",
    "\n",
    "ACHIEV_URL = '&key=' + API_KEY + '&steamid=' + STEAM_ID\n",
    "ACHIEV_URL = 'https://api.steampowered.com/ISteamUserStats/GetPlayerAchievements/v0001/?appid={}' + ACHIEV_URL\n",
    "\n",
    "session = requests.Session()\n",
    "retry = Retry(connect=3, backoff_factor=0.5)\n",
    "adapter = HTTPAdapter(max_retries=retry)\n",
    "session.mount('http://', adapter)\n",
    "session.mount('https://', adapter)"
   ]
  },
  {
   "cell_type": "code",
   "execution_count": 7,
   "metadata": {},
   "outputs": [],
   "source": [
    "response = session.get(GAMES_URL)\n",
    "result = response.json()[\"response\"][\"games\"]\n",
    "result = sorted(result, key=lambda g: g[\"playtime_forever\"], reverse=True)\n",
    "df = pd.json_normalize(result)"
   ]
  },
  {
   "cell_type": "code",
   "execution_count": 8,
   "metadata": {},
   "outputs": [],
   "source": [
    "for appid in df['appid']:\n",
    "    response = session.get(ACHIEV_URL.format(appid))\n",
    "\n",
    "    try:\n",
    "        result = response.json()['playerstats']['achievements']\n",
    "        achievements = pd.json_normalize(result)\n",
    "        unlocked = len(achievements[achievements.achieved == 1])\n",
    "        locked = len(achievements[achievements.achieved == 0])\n",
    "        total = unlocked + locked\n",
    "        perfect = 0\n",
    "\n",
    "        if unlocked == total:\n",
    "            perfect = 1\n",
    "\n",
    "    except KeyError:\n",
    "        unlocked, locked, total, perfect = 0, 0, 0, 0\n",
    "\n",
    "    df.loc[df.appid == appid, 'achiev_unlocked'] = unlocked\n",
    "    df.loc[df.appid == appid, 'achiev_locked'] = locked\n",
    "    df.loc[df.appid == appid, 'achiev_total'] = total\n",
    "    df.loc[df.appid == appid, 'achiev_perfect'] = perfect"
   ]
  },
  {
   "cell_type": "code",
   "execution_count": null,
   "metadata": {},
   "outputs": [],
   "source": [
    "caps = DesiredCapabilities().CHROME\n",
    "caps['pageLoadStrategy'] = 'eager'\n",
    "driver = webdriver.Chrome(desired_capabilities = caps)\n",
    "\n",
    "for appid in df['appid']:\n",
    "    driver.get(\"https://store.steampowered.com/app/\" + str(appid) + \"/\")\n",
    "\n",
    "    try:\n",
    "        select = Select(driver.find_element(By.ID, 'ageYear'))\n",
    "        select.select_by_value('2000')\n",
    "        view_button = driver.find_element(By.XPATH, '//*[@id=\"view_product_page_btn\"]')\n",
    "        view_button.click()\n",
    "    except:\n",
    "        pass\n",
    "    \n",
    "    try:\n",
    "        WebDriverWait(driver, 10).until(EC.presence_of_element_located((By.XPATH, '//*[@id=\"glanceCtnResponsiveRight\"]/div[2]/div[2]/div')))\n",
    "        tag_button = driver.find_element(By.XPATH, '//*[@id=\"glanceCtnResponsiveRight\"]/div[2]/div[2]/div')\n",
    "        tag_button.click()\n",
    "    except:\n",
    "        pass\n",
    "\n",
    "    tags = []\n",
    "    i = 1\n",
    "    while True:\n",
    "        try:\n",
    "            tag_xpath = '//*[@id=\"app_tagging_modal\"]/div/div[2]/div/div[' + str(i) + ']/a'\n",
    "            tag = driver.find_element(By.XPATH, tag_xpath).text\n",
    "            tags.append(tag)\n",
    "            i += 1\n",
    "        except:\n",
    "            break\n",
    "    \n",
    "    df.loc[df.appid == appid, 'tags'] = ','.join(tags)\n",
    "\n",
    "driver.quit()"
   ]
  },
  {
   "cell_type": "code",
   "execution_count": null,
   "metadata": {},
   "outputs": [],
   "source": [
    "tags = sorted((','.join(df['tags'].to_list())).split(','))\n",
    "tags = list(dict.fromkeys(tags))"
   ]
  },
  {
   "cell_type": "code",
   "execution_count": null,
   "metadata": {},
   "outputs": [],
   "source": [
    "tags_ranking = pd.DataFrame(columns=['tag','playtime_minutes','playtime_hours','total_achievs','total_perfects'])\n",
    "\n",
    "for tag in tags:\n",
    "    games = df[df['tags'].str.contains(tag)]\n",
    "    minutes = games['playtime_forever'].sum()\n",
    "    hours = minutes / 60\n",
    "    achievs = games['achiev_unlocked'].sum()\n",
    "    perfects = games['achiev_perfect'].sum()\n",
    "    row = [tag, minutes, hours, achievs, perfects]\n",
    "    tags_ranking.loc[len(tags_ranking)] = row\n",
    "\n",
    "tags_ranking = tags_ranking.iloc[1:]"
   ]
  },
  {
   "cell_type": "code",
   "execution_count": null,
   "metadata": {},
   "outputs": [],
   "source": [
    "tags_ranking = tags_ranking.sort_values(by='playtime_minutes', ascending=False)\n",
    "tags_ranking.reset_index(inplace=True)\n",
    "tags_ranking['rank_playtime'] = tags_ranking.index + 1\n",
    "tags_ranking.drop(columns='index', inplace=True)\n",
    "\n",
    "tags_ranking = tags_ranking.sort_values(by='total_achievs', ascending=False)\n",
    "tags_ranking.reset_index(inplace=True)\n",
    "tags_ranking['rank_achievs'] = tags_ranking.index + 1\n",
    "tags_ranking.drop(columns='index', inplace=True)\n",
    "\n",
    "tags_ranking = tags_ranking.sort_values(by='total_perfects', ascending=False)\n",
    "tags_ranking.reset_index(inplace=True)\n",
    "tags_ranking['rank_perfects'] = tags_ranking.index + 1\n",
    "tags_ranking.drop(columns='index', inplace=True)\n",
    "\n",
    "tags_ranking['overall_rank'] = tags_ranking[['rank_playtime', 'rank_achievs', 'rank_perfects']].mean(axis=1)"
   ]
  },
  {
   "cell_type": "code",
   "execution_count": null,
   "metadata": {},
   "outputs": [],
   "source": [
    "tags_ranking.to_csv('tags_ranking.csv', index=False)"
   ]
  },
  {
   "cell_type": "code",
   "execution_count": null,
   "metadata": {},
   "outputs": [],
   "source": [
    "tags_ranking.corr()"
   ]
  }
 ],
 "metadata": {
  "kernelspec": {
   "display_name": "Python 3",
   "language": "python",
   "name": "python3"
  },
  "language_info": {
   "codemirror_mode": {
    "name": "ipython",
    "version": 3
   },
   "file_extension": ".py",
   "mimetype": "text/x-python",
   "name": "python",
   "nbconvert_exporter": "python",
   "pygments_lexer": "ipython3",
   "version": "3.10.3"
  },
  "orig_nbformat": 4
 },
 "nbformat": 4,
 "nbformat_minor": 2
}
